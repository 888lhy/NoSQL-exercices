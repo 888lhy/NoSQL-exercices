{
 "cells": [
  {
   "cell_type": "code",
   "execution_count": 5,
   "metadata": {},
   "outputs": [],
   "source": [
    "import py2neo\n",
    "\n",
    "graph = py2neo.Graph(\"bolt://localhost:7688\", auth=(\"neo4j\", \"password_tuts\"), name=\"mcu\")"
   ]
  },
  {
   "cell_type": "code",
   "execution_count": 11,
   "metadata": {},
   "outputs": [
    {
     "name": "stdout",
     "output_type": "stream",
     "text": [
      "[Node('Superhero', Combat=56, Durability=84, Intelligence=75, Power=100, Speed=100, Strength=67, Total=482, id_=1009184, name='Black Bolt'), Node('Superhero', Combat=85, Durability=110, Intelligence=88, Power=100, Speed=100, Strength=85, Total=568, id_=1010764, name='Stardust'), Node('Superhero', Combat=56, Durability=60, Intelligence=63, Power=57, Speed=100, Strength=28, Total=364, id_=1009524, name='Quicksilver'), Node('Superhero', Combat=25, Durability=100, Intelligence=38, Power=100, Speed=100, Strength=60, Total=423, id_=1009477, name='Nova'), Node('Superhero', Combat=85, Durability=100, Intelligence=69, Power=100, Speed=92, Strength=100, Total=546, id_=1009664, name='Thor'), Node('Superhero', Combat=32, Durability=101, Intelligence=63, Power=100, Speed=84, Strength=100, Total=480, id_=1009592, name='Silver Surfer'), Node('Superhero', Combat=70, Durability=100, Intelligence=100, Power=100, Speed=83, Strength=100, Total=553, id_=1009312, name='Galactus'), Node('Superhero', Combat=80, Durability=100, Intelligence=88, Power=100, Speed=83, Strength=95, Total=546, id_=1009280, name='Dormammu'), Node('Superhero', Combat=28, Durability=99, Intelligence=88, Power=71, Speed=83, Strength=80, Total=449, id_=1011060, name='Ego'), Node('Superhero', Combat=70, Durability=56, Intelligence=50, Power=70, Speed=83, Strength=18, Total=347, id_=1009476, name='Northstar')]\n"
     ]
    }
   ],
   "source": [
    "# 1: MCU network. Who are the 10 fastest in the MCU ? Are they related to each other ?\n",
    "\n",
    "query = \"\"\"MATCH (a:Superhero)\n",
    "WHERE exists(a.Speed)\n",
    "RETURN a\n",
    "ORDER BY a.Speed DESC\n",
    "LIMIT 10\"\"\"\n",
    "\n",
    "data = graph.run(query).to_data_frame()\n",
    "fastest10 = list(data[\"a\"])\n",
    "print(fastest10)"
   ]
  },
  {
   "cell_type": "code",
   "execution_count": 15,
   "metadata": {},
   "outputs": [
    {
     "name": "stdout",
     "output_type": "stream",
     "text": [
      "Empty DataFrame\n",
      "Columns: []\n",
      "Index: []\n"
     ]
    }
   ],
   "source": [
    "query = \"\"\"MATCH (a:Superhero)-[r:RELATION]->(b:Superhero)\n",
    "WHERE a in $fastest10 AND b in $fastest10\n",
    "RETURN a, r, b\"\"\"\n",
    "\n",
    "data = graph.run(query, fastest10=fastest10).to_data_frame()\n",
    "print(data)\n"
   ]
  },
  {
   "cell_type": "code",
   "execution_count": 17,
   "metadata": {},
   "outputs": [
    {
     "name": "stdout",
     "output_type": "stream",
     "text": [
      "   num_superheroes\n",
      "0              670\n"
     ]
    }
   ],
   "source": [
    "# 2.  How many have collaborated atleast more than 10 times with another superhero?\n",
    "\n",
    "query = \"\"\"\n",
    "    MATCH (a:Superhero)-[r:RELATION]->(b:Superhero)\n",
    "    WITH a, count(r) as collabs\n",
    "    WHERE collabs > 10\n",
    "    RETURN count(distinct a) as num_superheroes\n",
    "\"\"\"\n",
    "\n",
    "data = graph.run(query).to_data_frame()\n",
    "print(data)"
   ]
  },
  {
   "cell_type": "code",
   "execution_count": 26,
   "metadata": {},
   "outputs": [
    {
     "name": "stdout",
     "output_type": "stream",
     "text": [
      "(_38:Superhero {Combat: 1, Durability: 1, Intelligence: 1, Power: 0, Speed: 1, Strength: 1, Total: 5, id_: 1009393, name: 'Lady Deathstrike'})\n",
      "(_45:Superhero {Combat: 70, Durability: 100, Intelligence: 100, Power: 100, Speed: 83, Strength: 100, Total: 553, id_: 1009312, name: 'Galactus'})\n",
      "Empty DataFrame\n",
      "Columns: []\n",
      "Index: []\n"
     ]
    }
   ],
   "source": [
    "# 3: Did the weakest of the MCU collaborated with the strongest ?\n",
    "query = \"\"\" MATCH (a:Superhero)\n",
    "    WHERE exists(a.Strength)\n",
    "    RETURN a as weakest\n",
    "    ORDER BY a.Strength ASC\n",
    "    LIMIT 1 \"\"\" \n",
    "\n",
    "data = graph.run(query).to_data_frame()\n",
    "weakest = list(data[\"weakest\"])[0]\n",
    "print(weakest)\n",
    "\n",
    "query = \"\"\" MATCH (a:Superhero)\n",
    "    WHERE exists(a.Strength)\n",
    "    RETURN a as strongest\n",
    "    ORDER BY a.Strength DESC\n",
    "    LIMIT 1 \"\"\" \n",
    "\n",
    "data = graph.run(query).to_data_frame()\n",
    "strongest = list(data[\"strongest\"])[0]\n",
    "print(strongest)\n",
    "\n",
    "query = \"\"\"MATCH (a:Superhero{id_:'1009393'})-[r:RELATION]-(b:Superhero{id_:'1009312'}) RETURN r,a,b\"\"\"\n",
    "data = graph.run(query).to_data_frame()\n",
    "print(data)"
   ]
  },
  {
   "cell_type": "code",
   "execution_count": 57,
   "metadata": {},
   "outputs": [
    {
     "name": "stdout",
     "output_type": "stream",
     "text": [
      "Constraint already exists\n"
     ]
    },
    {
     "data": {
      "text/html": [
       "(No data)"
      ],
      "text/plain": [
       "(No data)"
      ]
     },
     "execution_count": 57,
     "metadata": {},
     "output_type": "execute_result"
    }
   ],
   "source": [
    "# 5. Create a new db called \"master\". Create a graph from the M1 class with name and random age between 20 and 30, \n",
    "# Group of 3 that collab (undirected relation)\n",
    "import tqdm\n",
    "import numpy as np\n",
    "import py2neo\n",
    "\n",
    "graph = py2neo.Graph(\"bolt://localhost:7688\", auth=(\"neo4j\", \"password_tuts\"), name=\"master\")\n",
    "graph.delete_all()\n",
    "\n",
    "names = {\"0\":\"Alice\",\n",
    "        \"1\":\"Bob\",\n",
    "        \"2\":\"Charlie\",\n",
    "        \"3\":\"David\",\n",
    "        \"4\":\"Eve\",\n",
    "        \"5\":\"Frank\",\n",
    "        \"6\":\"Grace\"}\n",
    "\n",
    "try:\n",
    "    graph.run(\"CREATE CONSTRAINT ON (:Person) ASSERT n.id_ IS UNIQUE\")\n",
    "except:\n",
    "    print(\"Constraint already exists\")\n",
    "\n",
    "transaction_list = []\n",
    "iteration = 0\n",
    "for i in range(6):\n",
    "    id_ = iteration\n",
    "    name = names[str(i)]\n",
    "    age = int(np.random.randint(20,30))\n",
    "    transaction_list.append({\"id_\":id_,\"name\":name,\"age\":age})\n",
    "    iteration += 1\n",
    "    transaction = \"UNWIND $json as data CREATE (n:Person) SET n = data\"\n",
    "    graph.run(transaction, json=transaction_list)\n",
    "    transaction_list = []\n",
    "\n",
    "graph.run(transaction, json=transaction_list)"
   ]
  },
  {
   "cell_type": "code",
   "execution_count": 58,
   "metadata": {},
   "outputs": [],
   "source": [
    "import random\n",
    "\n",
    "student = list(range(6))\n",
    "\n",
    "for _ in range(2): # 2 groups of 3\n",
    "    selected_people = random.sample(student, 3) # select 3 random people\n",
    "    id1, id2, id3 = sorted(selected_people) \n",
    "    transaction = \"\"\"\n",
    "    MATCH (a:Person{id_: $id1}), (b:Person{id_: $id2}), (c:Person{id_: $id3}) \n",
    "    CREATE (a)-[:RELATION]->(b), (b)-[:RELATION]->(c), (c)-[:RELATION]->(a),\n",
    "           (a)-[:RELATION]->(c), (c)-[:RELATION]->(b), (b)-[:RELATION]->(a)\n",
    "    \"\"\"\n",
    "    graph.run(transaction, id1=id1, id2=id2, id3=id3)\n",
    "\n",
    "    for person in selected_people:\n",
    "        student.remove(person)\n"
   ]
  },
  {
   "cell_type": "code",
   "execution_count": 61,
   "metadata": {},
   "outputs": [
    {
     "name": "stdout",
     "output_type": "stream",
     "text": [
      "      Name  Age\n",
      "0  Charlie   27\n",
      "1      Bob   27\n"
     ]
    }
   ],
   "source": [
    "# 6. Get the age for people YOU collaborate with\n",
    "\n",
    "query = \"\"\"MATCH (a:Person{name:'Alice'})-[:RELATION]-(b:Person) \n",
    "RETURN DISTINCT b.name AS Name, b.age AS Age\n",
    "\"\"\"\n",
    "data = graph.run(query).to_data_frame()\n",
    "print(data)\n"
   ]
  },
  {
   "cell_type": "code",
   "execution_count": 62,
   "metadata": {},
   "outputs": [
    {
     "name": "stdout",
     "output_type": "stream",
     "text": [
      "                                          a\n",
      "0    {'name': 'Alice', 'id_': 0, 'age': 28}\n",
      "1      {'name': 'Bob', 'id_': 1, 'age': 27}\n",
      "2  {'name': 'Charlie', 'id_': 2, 'age': 27}\n",
      "3    {'name': 'David', 'id_': 3, 'age': 27}\n",
      "4    {'name': 'Frank', 'id_': 5, 'age': 26}\n"
     ]
    }
   ],
   "source": [
    "# Get nodes with age > 25.\n",
    "\n",
    "query = \"\"\"MATCH (a:Person)\n",
    "WHERE a.age > 25\n",
    "RETURN a\"\"\"\n",
    "\n",
    "data = graph.run(query).to_data_frame()\n",
    "print(data)"
   ]
  }
 ],
 "metadata": {
  "kernelspec": {
   "display_name": "Python 3",
   "language": "python",
   "name": "python3"
  },
  "language_info": {
   "codemirror_mode": {
    "name": "ipython",
    "version": 3
   },
   "file_extension": ".py",
   "mimetype": "text/x-python",
   "name": "python",
   "nbconvert_exporter": "python",
   "pygments_lexer": "ipython3",
   "version": "3.11.5"
  }
 },
 "nbformat": 4,
 "nbformat_minor": 2
}
