{
 "cells": [
  {
   "cell_type": "markdown",
   "metadata": {},
   "source": [
    "#### Real World application 5\n",
    "You will work on a Twitch dataset. The goal is to learn more about the feat&fun on Twitch. First thing to do is create the network on Neo4j. Insert the node from Twitch/FR_target and then the edges from Twitch/FR_edges.csv in neo4j. Answer the following using cypher queries"
   ]
  },
  {
   "cell_type": "code",
   "execution_count": 1,
   "metadata": {},
   "outputs": [],
   "source": [
    "import py2neo\n",
    "\n",
    "graph = py2neo.Graph(\"bolt://localhost:7688\", auth=(\"neo4j\", \"password_tuts\"), name=\"twitch\")\n",
    "graph.delete_all()"
   ]
  },
  {
   "cell_type": "code",
   "execution_count": 2,
   "metadata": {},
   "outputs": [
    {
     "data": {
      "text/plain": [
       "(6549, 6)"
      ]
     },
     "execution_count": 2,
     "metadata": {},
     "output_type": "execute_result"
    }
   ],
   "source": [
    "import pandas as pd\n",
    "import tqdm\n",
    "\n",
    "target = pd.read_csv(\"Twitch/FR_target.csv\")\n",
    "target = target.drop_duplicates(subset=\"id\")\n",
    "target.shape\n"
   ]
  },
  {
   "cell_type": "code",
   "execution_count": 3,
   "metadata": {},
   "outputs": [
    {
     "name": "stdout",
     "output_type": "stream",
     "text": [
      "Constraint already exists\n"
     ]
    },
    {
     "name": "stderr",
     "output_type": "stream",
     "text": [
      "0it [00:00, ?it/s]"
     ]
    },
    {
     "name": "stderr",
     "output_type": "stream",
     "text": [
      "6549it [00:00, 7905.81it/s]\n"
     ]
    }
   ],
   "source": [
    "# insertion des nodes\n",
    "\n",
    "try:\n",
    "    graph.run(\"CREATE CONSTRAINT ON (n:Streamer) ASSERT n.id IS UNIQUE\")\n",
    "except:\n",
    "    print(\"Constraint already exists\")\n",
    "\n",
    "transaction_list = []\n",
    "for row in tqdm.tqdm(target.iterrows()):\n",
    "    id = row[1][\"id\"]\n",
    "    days = row[1][\"days\"]\n",
    "    mature = row[1][\"mature\"]\n",
    "    views= row[1][\"views\"]\n",
    "    partner = row[1][\"partner\"]\n",
    "    new_id = row[1][\"new_id\"]\n",
    "    transaction_list.append({\"id\": id, \"days\": days, \"mature\": mature, \"views\": views, \"partner\": partner, \"new_id\": new_id})\n",
    "    if len(transaction_list) == 1000:\n",
    "        transaction = \"UNWIND $json as data CREATE (n:Streamer) SET n = data\"\n",
    "        graph.run(transaction, json=transaction_list)\n",
    "        transaction_list = []\n",
    "        \n",
    "graph.run(transaction, json=transaction_list)\n",
    "\n",
    "pass"
   ]
  },
  {
   "cell_type": "code",
   "execution_count": 4,
   "metadata": {},
   "outputs": [
    {
     "data": {
      "text/plain": [
       "(112666, 2)"
      ]
     },
     "execution_count": 4,
     "metadata": {},
     "output_type": "execute_result"
    }
   ],
   "source": [
    "edges = pd.read_csv(\"Twitch/FR_edges.csv\")\n",
    "edges = edges.drop_duplicates()\n",
    "edges.shape"
   ]
  },
  {
   "cell_type": "code",
   "execution_count": null,
   "metadata": {},
   "outputs": [],
   "source": [
    "# insertion des relations \n",
    "import itertools\n",
    "import tqdm\n",
    "graph = py2neo.Graph(\"bolt://localhost:7688\", auth=(\"neo4j\", \"password_tuts\"), name=\"twitch\")\n",
    "\n",
    "transaction_list = []\n",
    "transaction = \"\"\"UNWIND $json as data\n",
    "    MATCH (a:Streamer),(b:Streamer)\n",
    "    WHERE a.new_id = data.from AND b.new_id = data.to\n",
    "    MERGE (a)-[r:RELATION]->(b)\n",
    "    ON CREATE\n",
    "    SET r.n_collab = 1\n",
    "    ON MATCH\n",
    "    SET r.n_collab = r.n_collab + 1\n",
    "    \"\"\"\n",
    "it = 0\n",
    "for edge in tqdm.tqdm(edges.groupby([\"from\"])):\n",
    "    related_ids = edge[1][\"to\"]\n",
    "    for combi in list(itertools.combinations(related_ids, 2)):\n",
    "        sh1 = combi[0]\n",
    "        sh2 = combi[1]\n",
    "        transaction_list.append({\"from\":sh1,\"to\":sh2})\n",
    "        it +=1\n",
    "        if it % 1000 == 0:\n",
    "            graph.run(transaction, json=transaction_list)\n",
    "            transaction_list = []\n",
    "\n",
    "graph.run(transaction, json=transaction_list)\n",
    "pass"
   ]
  },
  {
   "cell_type": "code",
   "execution_count": 8,
   "metadata": {},
   "outputs": [
    {
     "name": "stdout",
     "output_type": "stream",
     "text": [
      "   streamer_id  collab\n",
      "0     41719107     847\n",
      "1    147337432     787\n",
      "2     24147592     785\n",
      "3     18887776     734\n",
      "4     37547034     726\n",
      "5     41712775     679\n",
      "6     27085209     671\n",
      "7     40397145     650\n",
      "8     70298660     646\n",
      "9     42347691     644\n"
     ]
    }
   ],
   "source": [
    "# 1.Give the IDs of the top 10 streamers that have atleast one collaboration.\n",
    "\n",
    "query = \"\"\" MATCH (n:Streamer)-[r:RELATION]->(m:Streamer)\n",
    "WITH n, count(r) as collab\n",
    "WHERE collab >= 1\n",
    "RETURN n.id as streamer_id, collab\n",
    "ORDER BY collab DESC\n",
    "LIMIT 10\n",
    "  \"\"\"\n",
    "\n",
    "result = graph.run(query).to_data_frame()\n",
    "print(result)"
   ]
  },
  {
   "cell_type": "code",
   "execution_count": 9,
   "metadata": {},
   "outputs": [
    {
     "name": "stderr",
     "output_type": "stream",
     "text": [
      "C:\\Users\\10144\\AppData\\Local\\Temp\\ipykernel_17456\\3673739278.py:10: UserWarning: \n",
      "\n",
      "`distplot` is a deprecated function and will be removed in seaborn v0.14.0.\n",
      "\n",
      "Please adapt your code to use either `displot` (a figure-level function with\n",
      "similar flexibility) or `kdeplot` (an axes-level function for kernel density plots).\n",
      "\n",
      "For a guide to updating your code to use the new functions, please see\n",
      "https://gist.github.com/mwaskom/de44147ed2974457ad6372750bbe5751\n",
      "\n",
      "  ax = sns.distplot(data[\"degree\"],hist=False)\n"
     ]
    },
    {
     "data": {
      "image/png": "[encoded data removed]",
      "text/plain": [
       "<Figure size 640x480 with 1 Axes>"
      ]
     },
     "metadata": {},
     "output_type": "display_data"
    }
   ],
   "source": [
    "# 2. Create a density of node degrees. Do you observe a power scale law ? What does it mean ?\n",
    "import seaborn as sns\n",
    "\n",
    "query =  \"\"\"\n",
    "MATCH (s)\n",
    "WITH s, size(()-[:RELATION]->(s)) as degree\n",
    "RETURN degree\n",
    "\"\"\"\n",
    "data = graph.run(query).to_data_frame()\n",
    "ax = sns.distplot(data[\"degree\"],hist=False)\n",
    "ax.title.set_text(\"Density of degrees\")\n"
   ]
  },
  {
   "cell_type": "markdown",
   "metadata": {},
   "source": [
    "Yes, we can observe a power scale low, the power-law distribution implies the existence of a small number of highly connected nodes"
   ]
  },
  {
   "cell_type": "code",
   "execution_count": 10,
   "metadata": {},
   "outputs": [
    {
     "name": "stdout",
     "output_type": "stream",
     "text": [
      "   mature_streamers\n",
      "0              2414\n"
     ]
    }
   ],
   "source": [
    "# 3. How many streamers has the tag \"mature\" ?\n",
    "\n",
    "query = \"\"\" MATCH (n:Streamer)\n",
    "            WHERE n.mature = True\n",
    "            RETURN count(n) as mature_streamers \"\"\"\n",
    "\n",
    "result = graph.run(query).to_data_frame()\n",
    "print(result)"
   ]
  },
  {
   "cell_type": "code",
   "execution_count": 27,
   "metadata": {},
   "outputs": [
    {
     "name": "stdout",
     "output_type": "stream",
     "text": [
      "   mature  collab_count\n",
      "0   False        147018\n",
      "1    True        104530\n",
      "-0.9999999999999999\n"
     ]
    }
   ],
   "source": [
    "# 4. Is the collaboration correlated to the \"mature\" tag ?\n",
    "\n",
    "query = \"\"\"MATCH (s:Streamer)-[r:RELATION]->()\n",
    "WITH s.mature AS mature, count(r) AS collab_count\n",
    "RETURN mature, collab_count\n",
    " \"\"\"\n",
    "\n",
    "result = graph.run(query).to_data_frame()\n",
    "corr = result['mature'].corr(result['collab_count'])\n",
    "print(result)\n",
    "print(corr) "
   ]
  },
  {
   "cell_type": "markdown",
   "metadata": {},
   "source": [
    "Le coefficient de corrélation entre le nombre de collaboration et 'mature' label est tend vers -1, cela signifie qu'il existe une corrélation négative, les streamers sans le label 'mature' tendent d'avoir plus de collaboration"
   ]
  },
  {
   "cell_type": "code",
   "execution_count": 23,
   "metadata": {},
   "outputs": [
    {
     "name": "stdout",
     "output_type": "stream",
     "text": [
      "   collab_p\n",
      "0     15077\n",
      "   collab_np\n",
      "0     156374\n",
      "Non partners collaborate more than partners\n"
     ]
    }
   ],
   "source": [
    "# 5. Do partners collaborate more than non partners ?\n",
    "\n",
    "query = \"\"\" MATCH (n:Streamer)-[r:RELATION]->(m:Streamer)\n",
    "WHERE n <> m AND n.partner = True AND m.partner = True\n",
    "RETURN count(r) as collab_p \"\"\"\n",
    "\n",
    "result1 = graph.run(query).to_data_frame()\n",
    "print(result1)\n",
    "\n",
    "query2 = \"\"\" MATCH (n:Streamer)-[r:RELATION]->(m:Streamer)\n",
    "WHERE n <> m AND n.partner = False AND m.partner = False\n",
    "RETURN count(r) as collab_np \"\"\"\n",
    "\n",
    "result2 = graph.run(query2).to_data_frame()\n",
    "print(result2)\n",
    "\n",
    "if result1[\"collab_p\"][0] > result2[\"collab_np\"][0]:\n",
    "    print(\"Partners collaborate more than non partners\")\n",
    "else:\n",
    "    print(\"Non partners collaborate more than partners\")"
   ]
  },
  {
   "cell_type": "code",
   "execution_count": null,
   "metadata": {},
   "outputs": [],
   "source": []
  }
 ],
 "metadata": {
  "kernelspec": {
   "display_name": "Python 3",
   "language": "python",
   "name": "python3"
  },
  "language_info": {
   "codemirror_mode": {
    "name": "ipython",
    "version": 3
   },
   "file_extension": ".py",
   "mimetype": "text/x-python",
   "name": "python",
   "nbconvert_exporter": "python",
   "pygments_lexer": "ipython3",
   "version": "3.11.5"
  }
 },
 "nbformat": 4,
 "nbformat_minor": 2
}
