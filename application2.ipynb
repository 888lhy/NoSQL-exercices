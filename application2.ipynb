{
 "cells": [
  {
   "cell_type": "markdown",
   "metadata": {},
   "source": [
    "#### Real World application 2"
   ]
  },
  {
   "cell_type": "code",
   "execution_count": 1,
   "metadata": {},
   "outputs": [],
   "source": [
    "import pymongo\n",
    "import json\n",
    "\n",
    "client = pymongo.MongoClient('localhost', 27017)\n",
    "db = client[\"Homeworks\"]\n",
    "collection = db[\"authors\"]"
   ]
  },
  {
   "cell_type": "code",
   "execution_count": null,
   "metadata": {},
   "outputs": [],
   "source": [
    "with open('authors.json', \"r\") as f:\n",
    "    data = json.load(f)\n",
    "\n",
    "for doc in data:\n",
    "    if '_id' in doc:\n",
    "        doc['_id'] = str(doc['_id']['$oid'])\n",
    "\n",
    "collection.insert_many(data)"
   ]
  },
  {
   "cell_type": "code",
   "execution_count": 4,
   "metadata": {},
   "outputs": [
    {
     "data": {
      "text/plain": [
       "'_id_1'"
      ]
     },
     "execution_count": 4,
     "metadata": {},
     "output_type": "execute_result"
    }
   ],
   "source": [
    "# 1. Create an index, explain your choice of key.\n",
    "''' _id est une valeur unique pour chaque document, c'est plus facile de faire les recherches par _id.'''\n",
    "\n",
    "collection.create_index([(\"_id\",1) ])"
   ]
  },
  {
   "cell_type": "code",
   "execution_count": 9,
   "metadata": {},
   "outputs": [
    {
     "name": "stdout",
     "output_type": "stream",
     "text": [
      "7.744977920319982\n"
     ]
    }
   ],
   "source": [
    "# 2. What is the average length of \"pmid_list\"\n",
    "pipeline = [\n",
    "    {\"$unwind\": \"$pmid_list\"},\n",
    "    {\"$group\": {\"_id\": None, \"avg_length\": \n",
    "                {\"$avg\": \n",
    "                 {\"$strLenCP\": \n",
    "                  {\"$toString\": \"$pmid_list\"}}}}}] # d'abord on transforme pmid_list en string et après on calcule la longueur\n",
    "\n",
    "result = list(collection.aggregate(pipeline))\n",
    "print(result[0]['avg_length'])"
   ]
  },
  {
   "cell_type": "code",
   "execution_count": 11,
   "metadata": {},
   "outputs": [
    {
     "name": "stdout",
     "output_type": "stream",
     "text": [
      "[{'num_unique_affiliations': 318595}]\n"
     ]
    }
   ],
   "source": [
    "# 3. How many distinct affiliations are there ?\n",
    "pipeline = [\n",
    "    {\"$unwind\": \"$oa04_affiliations\"}, \n",
    "    {\"$group\": {\"_id\": \"$oa04_affiliations.Affiliation\"}},  # group by affiliation\n",
    "    {\"$count\": \"num_unique_affiliations\"} \n",
    "]\n",
    "\n",
    "result = list(collection.aggregate(pipeline))\n",
    "print(result)"
   ]
  },
  {
   "cell_type": "code",
   "execution_count": 21,
   "metadata": {},
   "outputs": [],
   "source": [
    "# 4.Find authors with atleast one \"COM\" AffiliationType\n",
    "\n",
    "pipeline = [{\"$unwind\": \"$oa04_affiliations\"},\n",
    "            {\"$match\": {\"oa04_affiliations.AffiliationType\": \"COM\"}},\n",
    "            {\"$project\": {\"_id\": 1, \"name\": 1, \"oa04_affiliations\": 1}}]\n",
    "\n",
    "result = list(collection.aggregate(pipeline))\n",
    "\n",
    "authors_com = []\n",
    "for author in result:\n",
    "    authors_com.append(author['_id'])"
   ]
  },
  {
   "cell_type": "code",
   "execution_count": 24,
   "metadata": {},
   "outputs": [
    {
     "name": "stdout",
     "output_type": "stream",
     "text": [
      "[{'num_authors': 21670}]\n"
     ]
    }
   ],
   "source": [
    "# 5.How many authors switched the AffiliationType ?\n",
    "\n",
    "pipeline = [\n",
    "    {\"$unwind\": \"$oa04_affiliations\"},\n",
    "    {\"$group\": {\"_id\": \"$_id\", \"num_types\": {\"$addToSet\": \"$oa04_affiliations.AffiliationType\"}}},\n",
    "    {\"$project\": {\"_id\": 1, \"num_types\": {\"$size\": \"$num_types\"}}},\n",
    "    {\"$match\": {\"num_types\": {\"$gt\": 1}}},\n",
    "    {\"$count\": \"num_authors\"}]\n",
    "\n",
    "result = list(collection.aggregate(pipeline))\n",
    "print(result)"
   ]
  },
  {
   "cell_type": "code",
   "execution_count": 36,
   "metadata": {},
   "outputs": [],
   "source": [
    "# 6. Find affiliation with the word \"China\"\n",
    "\n",
    "pipeline = [{\"$unwind\": \"$oa04_affiliations\"},\n",
    "    {\"$match\": {\"oa04_affiliations.Affiliation\": {\"$regex\": \"China\"}}},\n",
    "    {\"$project\": {\"_id\": 1, \"name\": 1, \"oa04_affiliations.Affiliation\": 1}}]\n",
    "\n",
    "result = list(collection.aggregate(pipeline))"
   ]
  },
  {
   "cell_type": "code",
   "execution_count": 37,
   "metadata": {},
   "outputs": [
    {
     "data": {
      "text/plain": [
       "{'_id': '6242c7c5022d5c5d474a044e', 'more_info': {'PMID': 30972486}}"
      ]
     },
     "execution_count": 37,
     "metadata": {},
     "output_type": "execute_result"
    }
   ],
   "source": [
    "# 7. Get the pmids of papers published in 2019\n",
    "\n",
    "pipeline = [\n",
    "    {\"$unwind\": \"$more_info\"},\n",
    "    {\"$match\": {\"more_info.PubYear\": 2019}},\n",
    "    {\"$project\": {\"_id\": 1, \"name\": 1, \"more_info.PMID\": 1}}]\n",
    "\n",
    "result = list(collection.aggregate(pipeline))\n",
    "result[0] # exemple de résultat\n"
   ]
  },
  {
   "cell_type": "code",
   "execution_count": 2,
   "metadata": {},
   "outputs": [
    {
     "name": "stdout",
     "output_type": "stream",
     "text": [
      "53086\n",
      "903\n"
     ]
    }
   ],
   "source": [
    "# 8. Count the number of doc with \"oa06_researcher_education\" OR \"oa04_affiliations\" key and \n",
    "# with the \"oa06_researcher_education\" AND \"oa04_affiliations\" .\n",
    "\n",
    "pipeline1 = [{\"$match\": {\"$or\": [{\"oa06_researcher_education\": {\"$exists\": True}}, \n",
    "                                {\"oa04_affiliations\": {\"$exists\": True}}]}}]\n",
    "\n",
    "pipeline2 =[{\"$match\": {\"$and\": [{\"oa06_researcher_education\": {\"$exists\": True}},\n",
    "                                {\"oa04_affiliations\": {\"$exists\": True}}]}}]\n",
    "\n",
    "                               \n",
    "result1= list(collection.aggregate(pipeline1))\n",
    "print(len(result1))\n",
    "\n",
    "result2= list(collection.aggregate(pipeline2))\n",
    "print(len(result2))"
   ]
  },
  {
   "cell_type": "code",
   "execution_count": 24,
   "metadata": {},
   "outputs": [
    {
     "name": "stdout",
     "output_type": "stream",
     "text": [
      "2003.8455284552845\n"
     ]
    }
   ],
   "source": [
    "# 9. What's the average \"BeginYear\", \"BeginYear\" is the type string, of \"oa06_researcher_education\".\n",
    "pipeline = [{\"$unwind\": \"$oa06_researcher_education\"},\n",
    "    {\"$addFields\": {\"BeginYear\": {\"$cond\": {\"if\": {\"$eq\": [\"$oa06_researcher_education.BeginYear\",' ']}, \n",
    "                                            \"then\":None, \"else\": {\"$toInt\": \"$oa06_researcher_education.BeginYear\"}}}}},\n",
    "    {\"$match\": {\"BeginYear\": {\"$ne\":None}}},\n",
    "    {\"$group\": {\"_id\": None, \"avg_BeginYear\": {\"$avg\": \"$BeginYear\"}}}]\n",
    "\n",
    "result = list(collection.aggregate(pipeline))\n",
    "print(result[0]['avg_BeginYear'])\n"
   ]
  },
  {
   "cell_type": "code",
   "execution_count": 25,
   "metadata": {},
   "outputs": [
    {
     "name": "stdout",
     "output_type": "stream",
     "text": [
      "[{'num_unique_countries': 101}]\n"
     ]
    }
   ],
   "source": [
    "# 10.Count the distinct country of \"oa06_researcher_education\"\n",
    "\n",
    "pipeline = [{\"$unwind\": \"$oa06_researcher_education\"},\n",
    "    {\"$group\": {\"_id\": \"$oa06_researcher_education.Country\"}},\n",
    "    {\"$count\": \"num_unique_countries\"}]\n",
    "\n",
    "result = list(collection.aggregate(pipeline))\n",
    "print(result)"
   ]
  },
  {
   "cell_type": "code",
   "execution_count": null,
   "metadata": {},
   "outputs": [],
   "source": [
    "# 11. Does the length of pmid_list and more_info always match ?\n",
    "\n",
    "???"
   ]
  },
  {
   "cell_type": "code",
   "execution_count": null,
   "metadata": {},
   "outputs": [],
   "source": [
    "# 12. Does the length of pmid_list and \"oa04_affiliations\" always match ?"
   ]
  }
 ],
 "metadata": {
  "kernelspec": {
   "display_name": "Python 3",
   "language": "python",
   "name": "python3"
  },
  "language_info": {
   "codemirror_mode": {
    "name": "ipython",
    "version": 3
   },
   "file_extension": ".py",
   "mimetype": "text/x-python",
   "name": "python",
   "nbconvert_exporter": "python",
   "pygments_lexer": "ipython3",
   "version": "3.11.5"
  }
 },
 "nbformat": 4,
 "nbformat_minor": 2
}
