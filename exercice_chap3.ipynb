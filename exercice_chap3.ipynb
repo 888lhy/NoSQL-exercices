{
 "cells": [
  {
   "cell_type": "code",
   "execution_count": 3,
   "metadata": {},
   "outputs": [],
   "source": [
    "import pymongo\n",
    "client = pymongo.MongoClient('localhost', 27017)\n",
    "db = client[\"Todo\"]\n",
    "collection = db[\"CRUD_exercise\"]"
   ]
  },
  {
   "cell_type": "code",
   "execution_count": 4,
   "metadata": {},
   "outputs": [
    {
     "data": {
      "text/plain": [
       "InsertOneResult(ObjectId('662a1852a3450b5b08ecab52'), acknowledged=True)"
      ]
     },
     "execution_count": 4,
     "metadata": {},
     "output_type": "execute_result"
    }
   ],
   "source": [
    "# 1.Take the dict created in the TODO 4 in chapter II and save it in the collection \"CRUD_exercise\".\n",
    "\n",
    "paper = {\n",
    "    'authors': (['Yann LeCun','Y. Bengio','Geoffrey Hinton'],['Ian Goodfellow','Jean Pouget-Abadie','Mehdi Mirza','Bing Xu','David Warde-Farley','Sherjil Ozair','Aaron Courville','Yoshua Bengio']),\n",
    "    'title': ['Deep Learning','Generative Adversarial Networks'],\n",
    "    'affiliations': (['Facebook AI Research','University of Montréal',' University of Toronto'],['Universite de Montréal','Ecole Polytechnique','Universite de Montréal','Universite de Montréal','Universite de Montréal','Indian Institute of Technology Delhi','Universite de Montréal','CIFAR Senior Fellow'])\n",
    "}\n",
    "\n",
    "collection.insert_one(paper)"
   ]
  },
  {
   "cell_type": "code",
   "execution_count": 5,
   "metadata": {},
   "outputs": [],
   "source": [
    "'''2. Insert 3 documents with key = x and values = 1, \n",
    "delete one of them. Which one is deleted first ? the most recent or oldest one ? increment the value of x to 4.'''\n",
    "\n",
    "for i in range(3):\n",
    "    collection.insert_one({'x':1})"
   ]
  },
  {
   "cell_type": "code",
   "execution_count": 6,
   "metadata": {},
   "outputs": [
    {
     "data": {
      "text/plain": [
       "DeleteResult({'n': 1, 'ok': 1.0}, acknowledged=True)"
      ]
     },
     "execution_count": 6,
     "metadata": {},
     "output_type": "execute_result"
    }
   ],
   "source": [
    "collection.delete_one({'x':1}) # the oldest one is deleted first"
   ]
  },
  {
   "cell_type": "code",
   "execution_count": 8,
   "metadata": {},
   "outputs": [
    {
     "data": {
      "text/plain": [
       "UpdateResult({'n': 2, 'nModified': 2, 'ok': 1.0, 'updatedExisting': True}, acknowledged=True)"
      ]
     },
     "execution_count": 8,
     "metadata": {},
     "output_type": "execute_result"
    }
   ],
   "source": [
    "collection.update_many({'x':1},{'$inc':{'x':3}})"
   ]
  },
  {
   "cell_type": "code",
   "execution_count": 12,
   "metadata": {},
   "outputs": [
    {
     "data": {
      "text/plain": [
       "InsertOneResult(ObjectId('662a1ca8a3450b5b08ecab58'), acknowledged=True)"
      ]
     },
     "execution_count": 12,
     "metadata": {},
     "output_type": "execute_result"
    }
   ],
   "source": [
    "# 3. Insert the dict created in the TODO 6 Chapter II in the example collection\n",
    "import json\n",
    "with open('datachap2/dict_xml.json','r') as f:\n",
    "    data = json.load(f)\n",
    "\n",
    "client = pymongo.MongoClient('localhost', 27017)\n",
    "db = client[\"Todo\"]\n",
    "collection = db[\"CRUD_exercise\"]\n",
    "\n",
    "collection.insert_one(data)"
   ]
  },
  {
   "cell_type": "code",
   "execution_count": null,
   "metadata": {},
   "outputs": [],
   "source": [
    "# 4.Get documents where authors key exist in the collection \"CRUD_exercise\".\n",
    "\n"
   ]
  },
  {
   "cell_type": "code",
   "execution_count": null,
   "metadata": {},
   "outputs": [],
   "source": [
    "# 5.Change the documents where x = 4 to x = 1."
   ]
  },
  {
   "cell_type": "code",
   "execution_count": null,
   "metadata": {},
   "outputs": [],
   "source": [
    "# 6. Find documents where author is not_mike and set author as real_mike."
   ]
  },
  {
   "cell_type": "code",
   "execution_count": null,
   "metadata": {},
   "outputs": [],
   "source": [
    "# 7. Delete documents where author is real_mike."
   ]
  }
 ],
 "metadata": {
  "kernelspec": {
   "display_name": "Python 3",
   "language": "python",
   "name": "python3"
  },
  "language_info": {
   "codemirror_mode": {
    "name": "ipython",
    "version": 3
   },
   "file_extension": ".py",
   "mimetype": "text/x-python",
   "name": "python",
   "nbconvert_exporter": "python",
   "pygments_lexer": "ipython3",
   "version": "3.11.5"
  }
 },
 "nbformat": 4,
 "nbformat_minor": 2
}
